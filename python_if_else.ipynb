{
  "nbformat": 4,
  "nbformat_minor": 0,
  "metadata": {
    "colab": {
      "provenance": [],
      "authorship_tag": "ABX9TyPWODbTMutKlvMC1HH0+CwU",
      "include_colab_link": true
    },
    "kernelspec": {
      "name": "python3",
      "display_name": "Python 3"
    },
    "language_info": {
      "name": "python"
    }
  },
  "cells": [
    {
      "cell_type": "markdown",
      "metadata": {
        "id": "view-in-github",
        "colab_type": "text"
      },
      "source": [
        "<a href=\"https://colab.research.google.com/github/Pradhuman0810/Pradhuman0810/blob/main/python_if_else.ipynb\" target=\"_parent\"><img src=\"https://colab.research.google.com/assets/colab-badge.svg\" alt=\"Open In Colab\"/></a>"
      ]
    },
    {
      "cell_type": "code",
      "execution_count": 4,
      "metadata": {
        "colab": {
          "base_uri": "https://localhost:8080/"
        },
        "id": "UWtgeSc93GMe",
        "outputId": "3d0093f9-cbe8-4a1a-b2f0-9c348fca6642"
      },
      "outputs": [
        {
          "output_type": "stream",
          "name": "stdout",
          "text": [
            "give number : 785156956\n",
            "even\n"
          ]
        }
      ],
      "source": [
        "i = int(input(\"give number : \"))\n",
        "if(i%2 == 0):\n",
        "  print(\"even\")\n",
        "else:\n",
        "  print(\"odd\")"
      ]
    },
    {
      "cell_type": "code",
      "source": [
        "a = int(input(\"give a : \"))\n",
        "b = int(input(\"give b : \"))\n",
        "c = int(input(\"give c : \"))\n",
        "if(a>b and a>c):\n",
        "  print(\"a is bigger\")\n",
        "elif(b>a and b>c):\n",
        "  print(\"b is bigger\")\n",
        "else:\n",
        "  print(\"c is bigger\")"
      ],
      "metadata": {
        "colab": {
          "base_uri": "https://localhost:8080/"
        },
        "id": "9jyrZOwK6fiP",
        "outputId": "9388f205-5453-480a-e85f-708eed7e4972"
      },
      "execution_count": 6,
      "outputs": [
        {
          "output_type": "stream",
          "name": "stdout",
          "text": [
            "give a : 4\n",
            "give b : 8\n",
            "give c : 56\n",
            "c is bigger\n"
          ]
        }
      ]
    },
    {
      "cell_type": "code",
      "source": [
        "year = int(input(\"give year : \"))\n",
        "if(year%4 == 0 and year%100 != 0) or (year %400 == 0):\n",
        "  print(\"leap year\")\n",
        "else:\n",
        "  print(\"not a leap year\")"
      ],
      "metadata": {
        "colab": {
          "base_uri": "https://localhost:8080/"
        },
        "id": "sy9ROgZE6zCg",
        "outputId": "9ad57944-ed52-4016-f3d6-d8691e98a1c3"
      },
      "execution_count": 7,
      "outputs": [
        {
          "output_type": "stream",
          "name": "stdout",
          "text": [
            "give year : 8542\n",
            "not a leap year\n"
          ]
        }
      ]
    },
    {
      "cell_type": "code",
      "source": [
        "marks= int(input(\"give marks : \"))\n",
        "if(marks>=90 and marks<= 100):\n",
        "  print(\"grade A\")\n",
        "elif(marks>=80 and marks<= 89):\n",
        "  print(\"grade b\")\n",
        "elif(marks>=70 and marks<= 79):\n",
        "  print(\"grade c\")\n",
        "elif(marks>=60 and marks<= 69):\n",
        "  print(\"grade d\")\n",
        "elif(marks<60):\n",
        "  print(\"grade f\")"
      ],
      "metadata": {
        "colab": {
          "base_uri": "https://localhost:8080/"
        },
        "id": "EykfNnL969Vp",
        "outputId": "2778ca29-83ef-4629-8a6e-c534758f7686"
      },
      "execution_count": 8,
      "outputs": [
        {
          "output_type": "stream",
          "name": "stdout",
          "text": [
            "give marks : 52\n",
            "grade f\n"
          ]
        }
      ]
    },
    {
      "cell_type": "code",
      "source": [
        "s = input(\"give character: \")\n",
        "if( s in 'aeiou'):\n",
        "  print(\"vowel\")\n",
        "else:\n",
        "  print(\"constant\")"
      ],
      "metadata": {
        "colab": {
          "base_uri": "https://localhost:8080/"
        },
        "id": "0iA5QiU77IFq",
        "outputId": "cb6813d1-1c60-40d4-838e-e2e13e3c4637"
      },
      "execution_count": 9,
      "outputs": [
        {
          "output_type": "stream",
          "name": "stdout",
          "text": [
            "give character: d\n",
            "constant\n"
          ]
        }
      ]
    },
    {
      "cell_type": "code",
      "source": [
        "a= int(input(\"give num1 : \"))\n",
        "b= int(input(\"give num2 : \"))\n",
        "o = input(\"give operator : \")\n",
        "if( o == '+'):\n",
        "  output = a+b\n",
        "elif( o == '-'):\n",
        "  output = a-b\n",
        "elif( o == '*'):\n",
        "  output = a*b\n",
        "elif( o == '/'):\n",
        "  output = a/b\n",
        "else:\n",
        "  output = 'wrong input'\n",
        "\n",
        "print( output)"
      ],
      "metadata": {
        "colab": {
          "base_uri": "https://localhost:8080/"
        },
        "id": "my9cMHpM9ug6",
        "outputId": "a979e156-4271-4fa7-972b-59527688789c"
      },
      "execution_count": 2,
      "outputs": [
        {
          "output_type": "stream",
          "name": "stdout",
          "text": [
            "give num1 : 6\n",
            "give num2 : 7\n",
            "give operator : /\n",
            "0.8571428571428571\n"
          ]
        }
      ]
    },
    {
      "cell_type": "code",
      "source": [
        "x= int(input(\"give number : \"))\n",
        "if(x == 0):\n",
        "  print( \" zero\")\n",
        "elif(x>0):\n",
        "  print(\"positive\")\n",
        "else:\n",
        "  print(\"negative\")"
      ],
      "metadata": {
        "colab": {
          "base_uri": "https://localhost:8080/"
        },
        "id": "oURjJ4EgdyiT",
        "outputId": "45092551-daa6-4f0d-8c51-19baa9f5dd9a"
      },
      "execution_count": 3,
      "outputs": [
        {
          "output_type": "stream",
          "name": "stdout",
          "text": [
            "give number : 5\n",
            "positive\n"
          ]
        }
      ]
    },
    {
      "cell_type": "code",
      "source": [
        "u = input(\"give username: \")\n",
        "p = input(\"give password: \")\n",
        "if(u == 'admin') and (p == '1234'):\n",
        "  print(\"login successful\")\n",
        "else:\n",
        "  print(\"login failed\")"
      ],
      "metadata": {
        "colab": {
          "base_uri": "https://localhost:8080/"
        },
        "id": "OZml2qATeBH6",
        "outputId": "17aa00e8-2fdc-4757-b7aa-e25f35e5870b"
      },
      "execution_count": 5,
      "outputs": [
        {
          "output_type": "stream",
          "name": "stdout",
          "text": [
            "give username: admin\n",
            "give password: 857\n",
            "login failed\n"
          ]
        }
      ]
    },
    {
      "cell_type": "code",
      "source": [
        "a= int(input(\"give side1 : \"))\n",
        "b= int(input(\"give side2 : \"))\n",
        "c= int(input(\"give side3 : \"))\n",
        "if( a+b > c and a+c > b and b+c > a):\n",
        "  print(\"triangle is valid\")\n",
        "else:\n",
        "  print(\"triangle is not valid\")"
      ],
      "metadata": {
        "colab": {
          "base_uri": "https://localhost:8080/"
        },
        "id": "jen-Uxj4eaWx",
        "outputId": "cda6a8d6-e2ac-44fc-ef29-172a2b2d919f"
      },
      "execution_count": 6,
      "outputs": [
        {
          "output_type": "stream",
          "name": "stdout",
          "text": [
            "give side1 : 5\n",
            "give side2 : 8\n",
            "give side3 : 4\n",
            "triangle is valid\n"
          ]
        }
      ]
    },
    {
      "cell_type": "code",
      "source": [
        "h = float(input(\"give height : \"))\n",
        "w = int(input(\"give weight : \"))\n",
        "bmi = w/(h**2)\n",
        "print(bmi)\n",
        "if(bmi < 18.5):\n",
        "  print(\"underweight\")\n",
        "elif(bmi>=18.5 and bmi<=24.9):\n",
        "  print(\"normal\")\n",
        "elif(bmi>=25 and bmi<=29.9):\n",
        "  print(\"overweight\")\n",
        "else:\n",
        "  print(\"Obesity\")"
      ],
      "metadata": {
        "colab": {
          "base_uri": "https://localhost:8080/"
        },
        "id": "BJGipZUoeyBU",
        "outputId": "58badeeb-7a24-45e3-bc2d-65e246fda452"
      },
      "execution_count": 11,
      "outputs": [
        {
          "output_type": "stream",
          "name": "stdout",
          "text": [
            "give height : 1.85\n",
            "give weight : 95\n",
            "27.757487216946675\n",
            "overweight\n"
          ]
        }
      ]
    },
    {
      "cell_type": "code",
      "source": [
        "p= int(input(\"give price: \"))\n",
        "if( p > 1000):\n",
        "  amount = p - p*0.10\n",
        "elif(p > 500) and (p <= 1000):\n",
        "  amount = p - p*0.05\n",
        "else:\n",
        "  amount = p\n",
        "print(amount)"
      ],
      "metadata": {
        "colab": {
          "base_uri": "https://localhost:8080/"
        },
        "id": "pbuRVeedfJKe",
        "outputId": "136ab294-12df-44c4-919b-1f958b27d1cd"
      },
      "execution_count": 14,
      "outputs": [
        {
          "output_type": "stream",
          "name": "stdout",
          "text": [
            "give price: 1500\n",
            "1350.0\n"
          ]
        }
      ]
    },
    {
      "cell_type": "code",
      "source": [
        "m = input(\"give month: \")\n",
        "if(m == 'january') or (m == 'march') or (m == 'may') or (m == 'july') or (m == 'august') or (m == 'october') or (m == 'december'):\n",
        "  days = 31\n",
        "elif ( m == 'april') or (m == 'june') or (m == 'september') or (m == 'november'):\n",
        "  days = 30\n",
        "elif (m == 'february'):\n",
        "  days = '28 or 29'\n",
        "print(days)"
      ],
      "metadata": {
        "colab": {
          "base_uri": "https://localhost:8080/"
        },
        "id": "_uDg2z0LgD16",
        "outputId": "5ca5120d-71af-47ed-a56f-d361c6eb010e"
      },
      "execution_count": 18,
      "outputs": [
        {
          "output_type": "stream",
          "name": "stdout",
          "text": [
            "give month: february\n",
            "28 or 29\n"
          ]
        }
      ]
    },
    {
      "cell_type": "code",
      "source": [
        "age = int( input (\"give age : \"))\n",
        "if( 0 <= age <=1):\n",
        "  cat = 'infant'\n",
        "elif(2 <= age <=4):\n",
        "  cat= 'toddler'\n",
        "elif(5 <= age <=12):\n",
        "  cat= 'child'\n",
        "elif(13 <= age <=19):\n",
        "  cat= 'teenager'\n",
        "elif(20 <= age <=59):\n",
        "  cat= 'adult'\n",
        "elif(age >=60):\n",
        "  cat= 'senior'\n",
        "print(cat)"
      ],
      "metadata": {
        "colab": {
          "base_uri": "https://localhost:8080/"
        },
        "id": "XgFiDpZ-hYo6",
        "outputId": "649c982f-7f3f-42e9-96ed-d26089cd40e6"
      },
      "execution_count": 27,
      "outputs": [
        {
          "output_type": "stream",
          "name": "stdout",
          "text": [
            "give age : 2\n",
            "toddler\n"
          ]
        }
      ]
    },
    {
      "cell_type": "code",
      "source": [
        "day= int(input(\"day of week : \"))\n",
        "match day:\n",
        "  case 1:\n",
        "    week = 'monday'\n",
        "  case 2:\n",
        "    week = \"tuesday\"\n",
        "  case 3:\n",
        "    week = \"wednesday\"\n",
        "  case 4:\n",
        "    week = \"thrusday\"\n",
        "  case 5:\n",
        "    week = \"friday\"\n",
        "  case 6:\n",
        "    week = \"saturday\"\n",
        "  case 7:\n",
        "    week = \"sunday\"\n",
        "print(week)"
      ],
      "metadata": {
        "colab": {
          "base_uri": "https://localhost:8080/"
        },
        "id": "e9pzTs3Zkeio",
        "outputId": "613377f3-4800-4fc6-8da2-406155497684"
      },
      "execution_count": 30,
      "outputs": [
        {
          "output_type": "stream",
          "name": "stdout",
          "text": [
            "day of week : 5\n",
            "friday\n"
          ]
        }
      ]
    },
    {
      "cell_type": "code",
      "source": [
        "balance = 9999\n",
        "print(\"code 1 = check balance\")\n",
        "print(\"code 2 = deposit money\")\n",
        "print(\"code 3 = withdraw money\")\n",
        "code = int(input(\"give code: \"))\n",
        "if(code == 1):\n",
        "  print(\"your balance is: \", balance)\n",
        "elif(code == 2):\n",
        "  deposit = (int(input(\"deposit amount: \")))\n",
        "  balance += deposit\n",
        "  print(\"deposit succesful\")\n",
        "  print(\"your balance is: \", balance)\n",
        "elif(code == 3):\n",
        "  withdraw = (int(input(\"withdraw amount: \")))\n",
        "  if(balance < withdraw):\n",
        "    print(\"insufficient balance\")\n",
        "  elif(withdraw < balance):\n",
        "    balance -= withdraw\n",
        "    print(\"withdraw succesful\")\n",
        "  print(\"your balance is: \", balance)\n",
        "else:\n",
        "  print(\"wrong input\")\n"
      ],
      "metadata": {
        "colab": {
          "base_uri": "https://localhost:8080/"
        },
        "id": "mbP5EwNClrZD",
        "outputId": "de8271c7-5d68-44ab-c66a-711ab47073dd"
      },
      "execution_count": 31,
      "outputs": [
        {
          "output_type": "stream",
          "name": "stdout",
          "text": [
            "code 1 = check balance\n",
            "code 2 = deposit money\n",
            "code 3 = withdraw money\n",
            "give code: 3\n",
            "withdraw amount: 9985\n",
            "withdraw succesful\n",
            "your balance is:  14\n"
          ]
        }
      ]
    },
    {
      "cell_type": "code",
      "source": [],
      "metadata": {
        "id": "47xLIlBLzZTF"
      },
      "execution_count": null,
      "outputs": []
    }
  ]
}